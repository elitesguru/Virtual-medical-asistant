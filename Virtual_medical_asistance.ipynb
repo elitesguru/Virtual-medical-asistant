{
 "cells": [
  {
   "cell_type": "markdown",
   "metadata": {
    "id": "M7Ro3klZJAdN"
   },
   "source": [
    "Virtual medical asistant"
   ]
  },
  {
   "cell_type": "code",
   "execution_count": 12,
   "metadata": {
    "colab": {
     "base_uri": "https://localhost:8080/",
     "height": 797
    },
    "id": "oJpQx6-RJFvO",
    "outputId": "7fd8c3ec-69b8-4378-a3d0-d093a9c51e7c"
   },
   "outputs": [
    {
     "name": "stdout",
     "output_type": "stream",
     "text": [
      "Ask a medical question (type 'exit' to quit): malaria\n",
      "Malaria is a tropical disease transmitted by mosquitoes. It can be prevented by using mosquito nets, insect repellents, and antimalarial medications like ACTM and COATEM.\n",
      "Ask a medical question (type 'exit' to quit): fever\n",
      "Fever is a common symptom of various illnesses. It indicates that the body is fighting an infection. Consult a doctor for a proper diagnosis and treatment.\n",
      "Ask a medical question (type 'exit' to quit): cough\n",
      "A persistent cough may be due to respiratory infections or allergies. If it persists, consult a healthcare professional for evaluation.\n",
      "Ask a medical question (type 'exit' to quit): exit\n"
     ]
    },
    {
     "data": {
      "image/png": "[encoded data removed]",
      "text/plain": [
       "<Figure size 1000x600 with 1 Axes>"
      ]
     },
     "metadata": {},
     "output_type": "display_data"
    },
    {
     "name": "stdout",
     "output_type": "stream",
     "text": [
      "\n",
      "Total Analysis Summary:\n",
      "Total User Queries: 3\n"
     ]
    }
   ],
   "source": [
    "import re\n",
    "import numpy as np\n",
    "import pandas as pd\n",
    "import matplotlib.pyplot as plt\n",
    "\n",
    "# Define a dictionary of medical knowledge\n",
    "medical_knowledge = {\n",
    "    'malaria': \"Malaria is a tropical disease transmitted by mosquitoes. It can be prevented by using mosquito nets, insect repellents, and antimalarial medications like ACTM and COATEM.\",\n",
    "    'fever': 'Fever is a common symptom of various illnesses. It indicates that the body is fighting an infection. Consult a doctor for a proper diagnosis and treatment.',\n",
    "    'headache': 'Headaches can be caused by tension, dehydration, migraines, or other factors. Stay hydrated and manage stress to alleviate headaches.',\n",
    "    'cough': 'A persistent cough may be due to respiratory infections or allergies. If it persists, consult a healthcare professional for evaluation.',\n",
    "    'heart palpitations': 'Heart palpitations can result from various causes. If you experience them, consult a doctor to rule out any underlying cardiac issues.',\n",
    "    'chest pain': 'Chest pain can be a symptom of heart problems or muscle strains. Seek immediate medical attention if you experience severe chest pain.',\n",
    "    # Additional medical knowledge can be added here.\n",
    "}\n",
    "\n",
    "# Initialize empty lists to collect user records\n",
    "user_records = []\n",
    "\n",
    "def virtual_medical_assistant(query):\n",
    "    response = \"I'm here to help, but remember, I'm not a replacement for professional medical advice.\"\n",
    "\n",
    "    # Search for keywords in the user's query\n",
    "    for keyword, answer in medical_knowledge.items():\n",
    "        if re.search(keyword, query, re.IGNORECASE):\n",
    "            response = answer\n",
    "            user_records.append(keyword)  # Collect user records by medical condition\n",
    "            break\n",
    "\n",
    "    return response\n",
    "\n",
    "# Main loop for interacting with the virtual medical assistant\n",
    "while True:\n",
    "    user_query = input(\"Ask a medical question (type 'exit' to quit): \")\n",
    "    if user_query.lower() == 'exit':\n",
    "        break\n",
    "\n",
    "    answer = virtual_medical_assistant(user_query)\n",
    "    print(answer)\n",
    "\n",
    "# Data Analysis and Visualization\n",
    "if user_records:\n",
    "    # Count the occurrences of each medical condition\n",
    "    condition_counts = pd.Series(user_records).value_counts()\n",
    "\n",
    "    # Data visualization: Bar chart for all medical conditions\n",
    "    condition_counts.plot(kind='bar', figsize=(10, 6))\n",
    "    plt.title('User Queries by Medical Condition')\n",
    "    plt.xlabel('Medical Condition')\n",
    "    plt.ylabel('Count')\n",
    "    plt.show()\n",
    "\n",
    "    # Total analysis summary\n",
    "    total_queries = len(user_records)\n",
    "    print(\"\\nTotal Analysis Summary:\")\n",
    "    print(f\"Total User Queries: {total_queries}\")\n"
   ]
  },
  {
   "cell_type": "code",
   "execution_count": 15,
   "metadata": {
    "colab": {
     "base_uri": "https://localhost:8080/"
    },
    "id": "mbyTchLfC7Ha",
    "outputId": "dff54049-a4fa-4e43-e667-950d1c5bc030"
   },
   "outputs": [
    {
     "name": "stdout",
     "output_type": "stream",
     "text": [
      "Accuracy: 0.0\n"
     ]
    }
   ],
   "source": [
    "import pandas as pd\n",
    "from sklearn.feature_extraction.text import TfidfVectorizer\n",
    "from sklearn.model_selection import train_test_split\n",
    "from sklearn.ensemble import RandomForestClassifier\n",
    "from sklearn.metrics import accuracy_score\n",
    "import re\n",
    "\n",
    "# Sample data for illustration\n",
    "data = {\n",
    "    'query': [\"I have a headache\", \"What's the treatment for fever?\", \"Malaria diagnosis\", \"Chest pain\"],\n",
    "    'category': [\"symptoms\", \"treatment\", \"diagnosis\", \"symptoms\"]\n",
    "}\n",
    "\n",
    "df = pd.DataFrame(data)\n",
    "\n",
    "# Data preprocessing and feature extraction\n",
    "tfidf = TfidfVectorizer()\n",
    "X = tfidf.fit_transform(df['query'])\n",
    "\n",
    "# Map categories to numerical values\n",
    "category_mapping = {'symptoms': 0, 'treatment': 1, 'diagnosis': 2}\n",
    "df['category'] = df['category'].map(category_mapping)\n",
    "\n",
    "# Split the data into training and testing sets\n",
    "X_train, X_test, y_train, y_test = train_test_split(X, df['category'], test_size=0.2, random_state=42)\n",
    "\n",
    "# Train a simple random forest classifier\n",
    "clf = RandomForestClassifier()\n",
    "clf.fit(X_train, y_train)\n",
    "\n",
    "# Make predictions on test data\n",
    "y_pred = clf.predict(X_test)\n",
    "\n",
    "# Calculate accuracy\n",
    "accuracy = accuracy_score(y_test, y_pred)\n",
    "print(\"Accuracy:\", accuracy)\n"
   ]
  },
  {
   "cell_type": "markdown",
   "metadata": {
    "id": "KfKY4s-AITF9"
   },
   "source": [
    "# New Section"
   ]
  }
 ],
 "metadata": {
  "colab": {
   "provenance": [],
   "toc_visible": true
  },
  "kernelspec": {
   "display_name": "Python 3 (ipykernel)",
   "language": "python",
   "name": "python3"
  },
  "language_info": {
   "codemirror_mode": {
    "name": "ipython",
    "version": 3
   },
   "file_extension": ".py",
   "mimetype": "text/x-python",
   "name": "python",
   "nbconvert_exporter": "python",
   "pygments_lexer": "ipython3",
   "version": "3.11.5"
  }
 },
 "nbformat": 4,
 "nbformat_minor": 4
}
